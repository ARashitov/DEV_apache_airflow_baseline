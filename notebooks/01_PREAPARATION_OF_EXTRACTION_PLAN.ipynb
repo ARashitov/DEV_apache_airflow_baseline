{
 "cells": [
  {
   "cell_type": "markdown",
   "id": "secondary-engagement",
   "metadata": {},
   "source": [
    "# About\n",
    "* **Author**: Adil Rashitov\n",
    "* **Created at**: 21.06.2021\n",
    "* **Goal**: Prepare extraction plan for web scrapping [118 direct](http://www.118.direct)\n",
    "* **Deliverables**:\n",
    "    1. **What** business categories to scrap?\n",
    "    1. **For which** locations to perform scrapping?"
   ]
  },
  {
   "cell_type": "code",
   "execution_count": 1,
   "id": "material-freedom",
   "metadata": {
    "code_folding": [
     0
    ]
   },
   "outputs": [
    {
     "data": {
      "text/html": [
       "<style>.container { width:100% !important; }</style>"
      ],
      "text/plain": [
       "<IPython.core.display.HTML object>"
      ]
     },
     "metadata": {},
     "output_type": "display_data"
    }
   ],
   "source": [
    "# Imports / Configs / Global vars\n",
    "\n",
    "# Import of native python tools\n",
    "import os\n",
    "import json\n",
    "from functools import reduce\n",
    "\n",
    "# Import of base ML stack libs\n",
    "import numpy as np\n",
    "import sklearn as sc\n",
    "\n",
    "# Multiprocessing for Mac / Linux\n",
    "import platform\n",
    "platform.system()\n",
    "if platform.system() == 'Darwin':\n",
    "    from multiprocess import Pool\n",
    "else:\n",
    "    from multiprocessing import Pool\n",
    "\n",
    "# Visualization libraries\n",
    "import plotly.express as px\n",
    "\n",
    "# Logging configuraiton\n",
    "import logging\n",
    "logging.basicConfig(format='[ %(asctime)s ][ %(levelname)s ]: %(message)s', datefmt='%m/%d/%Y %I:%M:%S %p')\n",
    "logger = logging.getLogger()\n",
    "logger.setLevel(logging.INFO)\n",
    "\n",
    "# Ipython configs\n",
    "from IPython.core.display import display, HTML\n",
    "from IPython.core.interactiveshell import InteractiveShell\n",
    "display(HTML(\"<style>.container { width:100% !important; }</style>\"))\n",
    "InteractiveShell.ast_node_interactivity = 'all'\n",
    "\n",
    "# Pandas configs\n",
    "import pandas as pd\n",
    "import geopandas as gpd\n",
    "pd.options.display.max_rows = 350\n",
    "pd.options.display.max_columns = 250\n",
    "\n",
    "# Jupyter configs\n",
    "%load_ext autoreload\n",
    "%autoreload 2\n",
    "%config Completer.use_jedi = False\n",
    "\n",
    "# GLOBAL VARS"
   ]
  },
  {
   "cell_type": "markdown",
   "id": "frozen-deployment",
   "metadata": {},
   "source": [
    "# Steps\n",
    "\n",
    "1. Extraction of businesses categories i will search\n",
    "2. Prepare input extraction locations"
   ]
  },
  {
   "cell_type": "markdown",
   "id": "5a955c27",
   "metadata": {},
   "source": [
    "### 1. Extraction of businesses categories \n",
    "\n",
    "To extraction locations, i need to prepare business categories i will use for search.\n",
    "\n",
    "link: http://www.118.direct/popularsearches/"
   ]
  },
  {
   "cell_type": "code",
   "execution_count": 2,
   "id": "56f381e8",
   "metadata": {
    "code_folding": [
     0
    ]
   },
   "outputs": [
    {
     "data": {
      "text/plain": [
       "0    http://www.118.direct/popularsearches/a\n",
       "1    http://www.118.direct/popularsearches/b\n",
       "dtype: object"
      ]
     },
     "execution_count": 2,
     "metadata": {},
     "output_type": "execute_result"
    }
   ],
   "source": [
    "# Generation URLs to bussiness locations\n",
    "import string\n",
    "from bs4 import BeautifulSoup\n",
    "import requests\n",
    "\n",
    "\n",
    "business_categs = pd.Series(map(lambda x: f\"http://www.118.direct/popularsearches/{x}\",\n",
    "                                list(string.ascii_lowercase)))\n",
    "business_categs[:2]"
   ]
  },
  {
   "cell_type": "code",
   "execution_count": 3,
   "id": "eb36ba00",
   "metadata": {
    "code_folding": [
     0,
     4,
     25
    ],
    "collapsed": true
   },
   "outputs": [
    {
     "name": "stderr",
     "output_type": "stream",
     "text": [
      "[ 06/21/2021 09:16:23 AM ][ INFO ]: [0] Start processing category: http://www.118.direct/popularsearches/a\n",
      "[ 06/21/2021 09:16:24 AM ][ INFO ]: [0] Finish processing category: http://www.118.direct/popularsearches/a\n",
      "\n",
      "[ 06/21/2021 09:16:24 AM ][ INFO ]: [1] Start processing category: http://www.118.direct/popularsearches/b\n",
      "[ 06/21/2021 09:16:25 AM ][ INFO ]: [1] Finish processing category: http://www.118.direct/popularsearches/b\n",
      "\n",
      "[ 06/21/2021 09:16:25 AM ][ INFO ]: [2] Start processing category: http://www.118.direct/popularsearches/c\n",
      "[ 06/21/2021 09:16:26 AM ][ INFO ]: [2] Finish processing category: http://www.118.direct/popularsearches/c\n",
      "\n",
      "[ 06/21/2021 09:16:26 AM ][ INFO ]: [3] Start processing category: http://www.118.direct/popularsearches/d\n",
      "[ 06/21/2021 09:16:27 AM ][ INFO ]: [3] Finish processing category: http://www.118.direct/popularsearches/d\n",
      "\n",
      "[ 06/21/2021 09:16:27 AM ][ INFO ]: [4] Start processing category: http://www.118.direct/popularsearches/e\n",
      "[ 06/21/2021 09:16:28 AM ][ INFO ]: [4] Finish processing category: http://www.118.direct/popularsearches/e\n",
      "\n",
      "[ 06/21/2021 09:16:28 AM ][ INFO ]: [5] Start processing category: http://www.118.direct/popularsearches/f\n",
      "[ 06/21/2021 09:16:29 AM ][ INFO ]: [5] Finish processing category: http://www.118.direct/popularsearches/f\n",
      "\n",
      "[ 06/21/2021 09:16:29 AM ][ INFO ]: [6] Start processing category: http://www.118.direct/popularsearches/g\n",
      "[ 06/21/2021 09:16:30 AM ][ INFO ]: [6] Finish processing category: http://www.118.direct/popularsearches/g\n",
      "\n",
      "[ 06/21/2021 09:16:30 AM ][ INFO ]: [7] Start processing category: http://www.118.direct/popularsearches/h\n",
      "[ 06/21/2021 09:16:31 AM ][ INFO ]: [7] Finish processing category: http://www.118.direct/popularsearches/h\n",
      "\n",
      "[ 06/21/2021 09:16:31 AM ][ INFO ]: [8] Start processing category: http://www.118.direct/popularsearches/i\n",
      "[ 06/21/2021 09:16:32 AM ][ INFO ]: [8] Finish processing category: http://www.118.direct/popularsearches/i\n",
      "\n",
      "[ 06/21/2021 09:16:32 AM ][ INFO ]: [9] Start processing category: http://www.118.direct/popularsearches/j\n",
      "[ 06/21/2021 09:16:33 AM ][ INFO ]: [9] Finish processing category: http://www.118.direct/popularsearches/j\n",
      "\n",
      "[ 06/21/2021 09:16:33 AM ][ INFO ]: [10] Start processing category: http://www.118.direct/popularsearches/k\n",
      "[ 06/21/2021 09:16:34 AM ][ INFO ]: [10] Finish processing category: http://www.118.direct/popularsearches/k\n",
      "\n",
      "[ 06/21/2021 09:16:34 AM ][ INFO ]: [11] Start processing category: http://www.118.direct/popularsearches/l\n",
      "[ 06/21/2021 09:16:35 AM ][ INFO ]: [11] Finish processing category: http://www.118.direct/popularsearches/l\n",
      "\n",
      "[ 06/21/2021 09:16:35 AM ][ INFO ]: [12] Start processing category: http://www.118.direct/popularsearches/m\n",
      "[ 06/21/2021 09:16:36 AM ][ INFO ]: [12] Finish processing category: http://www.118.direct/popularsearches/m\n",
      "\n",
      "[ 06/21/2021 09:16:36 AM ][ INFO ]: [13] Start processing category: http://www.118.direct/popularsearches/n\n",
      "[ 06/21/2021 09:16:37 AM ][ INFO ]: [13] Finish processing category: http://www.118.direct/popularsearches/n\n",
      "\n",
      "[ 06/21/2021 09:16:37 AM ][ INFO ]: [14] Start processing category: http://www.118.direct/popularsearches/o\n",
      "[ 06/21/2021 09:16:38 AM ][ INFO ]: [14] Finish processing category: http://www.118.direct/popularsearches/o\n",
      "\n",
      "[ 06/21/2021 09:16:38 AM ][ INFO ]: [15] Start processing category: http://www.118.direct/popularsearches/p\n",
      "[ 06/21/2021 09:16:39 AM ][ INFO ]: [15] Finish processing category: http://www.118.direct/popularsearches/p\n",
      "\n",
      "[ 06/21/2021 09:16:39 AM ][ INFO ]: [16] Start processing category: http://www.118.direct/popularsearches/q\n",
      "[ 06/21/2021 09:16:40 AM ][ INFO ]: [16] Finish processing category: http://www.118.direct/popularsearches/q\n",
      "\n",
      "[ 06/21/2021 09:16:40 AM ][ INFO ]: [17] Start processing category: http://www.118.direct/popularsearches/r\n",
      "[ 06/21/2021 09:16:41 AM ][ INFO ]: [17] Finish processing category: http://www.118.direct/popularsearches/r\n",
      "\n",
      "[ 06/21/2021 09:16:41 AM ][ INFO ]: [18] Start processing category: http://www.118.direct/popularsearches/s\n",
      "[ 06/21/2021 09:16:42 AM ][ INFO ]: [18] Finish processing category: http://www.118.direct/popularsearches/s\n",
      "\n",
      "[ 06/21/2021 09:16:42 AM ][ INFO ]: [19] Start processing category: http://www.118.direct/popularsearches/t\n",
      "[ 06/21/2021 09:16:43 AM ][ INFO ]: [19] Finish processing category: http://www.118.direct/popularsearches/t\n",
      "\n",
      "[ 06/21/2021 09:16:43 AM ][ INFO ]: [20] Start processing category: http://www.118.direct/popularsearches/u\n",
      "[ 06/21/2021 09:16:44 AM ][ INFO ]: [20] Finish processing category: http://www.118.direct/popularsearches/u\n",
      "\n",
      "[ 06/21/2021 09:16:44 AM ][ INFO ]: [21] Start processing category: http://www.118.direct/popularsearches/v\n",
      "[ 06/21/2021 09:16:45 AM ][ INFO ]: [21] Finish processing category: http://www.118.direct/popularsearches/v\n",
      "\n",
      "[ 06/21/2021 09:16:45 AM ][ INFO ]: [22] Start processing category: http://www.118.direct/popularsearches/w\n",
      "[ 06/21/2021 09:16:46 AM ][ INFO ]: [22] Finish processing category: http://www.118.direct/popularsearches/w\n",
      "\n",
      "[ 06/21/2021 09:16:46 AM ][ INFO ]: [23] Start processing category: http://www.118.direct/popularsearches/x\n",
      "[ 06/21/2021 09:16:47 AM ][ INFO ]: [23] Finish processing category: http://www.118.direct/popularsearches/x\n",
      "\n",
      "[ 06/21/2021 09:16:47 AM ][ INFO ]: [24] Start processing category: http://www.118.direct/popularsearches/y\n",
      "[ 06/21/2021 09:16:49 AM ][ INFO ]: [24] Finish processing category: http://www.118.direct/popularsearches/y\n",
      "\n",
      "[ 06/21/2021 09:16:49 AM ][ INFO ]: [25] Start processing category: http://www.118.direct/popularsearches/z\n",
      "[ 06/21/2021 09:16:49 AM ][ INFO ]: [25] Finish processing category: http://www.118.direct/popularsearches/z\n",
      "\n"
     ]
    }
   ],
   "source": [
    "# Parsing business categories\n",
    "import time\n",
    "\n",
    "\n",
    "def parse_page_of_categories(url):\n",
    "\n",
    "    class_element = \"popTermsList\"\n",
    "\n",
    "    html_text = requests.get(url).text\n",
    "    soup = BeautifulSoup(html_text, \"html.parser\")\n",
    "\n",
    "    categories = soup \\\n",
    "        .find_all(\"ul\", class_=class_element)[0] \\\n",
    "        .find_all(\"a\")\n",
    "    \n",
    "    df = pd.DataFrame({\n",
    "        'url': url,\n",
    "        'business_category': list(map(lambda x: x.contents, categories)),\n",
    "        'href': list(map(lambda x: x.attrs['href'], categories)),\n",
    "        \n",
    "    })\n",
    "    return df\n",
    "\n",
    "\n",
    "categs_extracted = []\n",
    "for _id, category in enumerate(business_categs):\n",
    "    logging.info(f\"[{_id}] Start processing category: {category}\")\n",
    "    categs_extracted.append(parse_page_of_categories(category))\n",
    "    time.sleep(np.random.normal(1, 0.2))\n",
    "    logging.info(f\"[{_id}] Finish processing category: {category}\\n\")\n",
    "\n",
    "\n",
    "categs_extracted = pd.concat(categs_extracted).reset_index(drop=True)\n",
    "categs_extracted['business_category'] = categs_extracted['business_category'].str[0]"
   ]
  },
  {
   "cell_type": "code",
   "execution_count": 4,
   "id": "86def319",
   "metadata": {},
   "outputs": [],
   "source": [
    "!mkdir -p /WORKDIR/data/sources/bussiness_categories_to_extract/\n",
    "fname = '/WORKDIR/data/sources/bussiness_categories_to_extract/categories.csv.zip'\n",
    "categs_extracted.to_csv(fname, index=False, compression='zip')"
   ]
  },
  {
   "cell_type": "markdown",
   "id": "cbec1ed5",
   "metadata": {},
   "source": [
    "### 2. Locations for which perform scrapping\n",
    "\n",
    "* Manchester"
   ]
  },
  {
   "cell_type": "code",
   "execution_count": 11,
   "id": "55336ada",
   "metadata": {},
   "outputs": [],
   "source": [
    "locations_to_extract = pd.DataFrame({\n",
    "    'Locations': ['Manchester',\n",
    "                  'Manchester Airport',\n",
    "                  'Manchester Science Park']}).reset_index(drop=True)\n",
    "\n",
    "!mkdir -p /WORKDIR/data/sources/locations_to_extract/\n",
    "fname = '/WORKDIR/data/sources/locations_to_extract/locations.csv.zip'\n",
    "locations_to_extract.to_csv(fname, index=False, compression='zip')"
   ]
  }
 ],
 "metadata": {
  "kernelspec": {
   "display_name": "Python 3",
   "language": "python",
   "name": "python3"
  },
  "language_info": {
   "codemirror_mode": {
    "name": "ipython",
    "version": 3
   },
   "file_extension": ".py",
   "mimetype": "text/x-python",
   "name": "python",
   "nbconvert_exporter": "python",
   "pygments_lexer": "ipython3",
   "version": "3.9.5"
  },
  "varInspector": {
   "cols": {
    "lenName": 16,
    "lenType": 16,
    "lenVar": 40
   },
   "kernels_config": {
    "python": {
     "delete_cmd_postfix": "",
     "delete_cmd_prefix": "del ",
     "library": "var_list.py",
     "varRefreshCmd": "print(var_dic_list())"
    },
    "r": {
     "delete_cmd_postfix": ") ",
     "delete_cmd_prefix": "rm(",
     "library": "var_list.r",
     "varRefreshCmd": "cat(var_dic_list()) "
    }
   },
   "types_to_exclude": [
    "module",
    "function",
    "builtin_function_or_method",
    "instance",
    "_Feature"
   ],
   "window_display": false
  }
 },
 "nbformat": 4,
 "nbformat_minor": 5
}
